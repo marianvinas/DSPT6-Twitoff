{
 "cells": [
  {
   "cell_type": "code",
   "execution_count": null,
   "metadata": {},
   "outputs": [],
   "source": [
    "!pip install basilica"
   ]
  },
  {
   "cell_type": "code",
   "execution_count": null,
   "metadata": {},
   "outputs": [],
   "source": [
    "\n",
    "import tweepy\n",
    "import basilica"
   ]
  },
  {
   "cell_type": "code",
   "execution_count": null,
   "metadata": {},
   "outputs": [],
   "source": [
    "## ADD YOUR CREDENTIALS HERE\n",
    "TWITTER_CONSUMER_API_KEY = ''\n",
    "TWITTER_CONSUMER_API_SECRET = ''\n",
    "TWITTER_ACCESS_TOKEN = ''\n",
    "TWITTER_ACCESS_TOKEN_SECRET = ''\n",
    "BASILICA_KEY = ''"
   ]
  },
  {
   "cell_type": "code",
   "execution_count": null,
   "metadata": {},
   "outputs": [],
   "source": [
    "TWITTER_AUTH = tweepy.OAuthHandler(TWITTER_CONSUMER_API_KEY,TWITTER_CONSUMER_API_SECRET)\n",
    "TWITTER_AUTH.set_access_token(TWITTER_ACCESS_TOKEN, TWITTER_ACCESS_TOKEN_SECRET)\n",
    "TWITTER = tweepy.API(TWITTER_AUTH)\n",
    "BASILICA = basilica.Connection(BASILICA_KEY)"
   ]
  },
  {
   "cell_type": "code",
   "execution_count": null,
   "metadata": {},
   "outputs": [],
   "source": [
    "dir(TWITTER)"
   ]
  },
  {
   "cell_type": "code",
   "execution_count": null,
   "metadata": {},
   "outputs": [],
   "source": [
    "\n",
    "twitter_user = TWITTER.get_user('elonmusk')\n",
    "twitter_user"
   ]
  },
  {
   "cell_type": "code",
   "execution_count": null,
   "metadata": {},
   "outputs": [],
   "source": [
    "twitter_user.id"
   ]
  },
  {
   "cell_type": "code",
   "execution_count": null,
   "metadata": {},
   "outputs": [],
   "source": [
    "tweets = twitter_user.timeline()\n",
    "tweets"
   ]
  },
  {
   "cell_type": "code",
   "execution_count": null,
   "metadata": {},
   "outputs": [],
   "source": [
    "tweets[2].full_text"
   ]
  },
  {
   "cell_type": "code",
   "execution_count": null,
   "metadata": {},
   "outputs": [],
   "source": [
    "\n",
    "embedding = BASILICA.embed_sentence(tweets[0].full_text, model='twitter')\n",
    "embedding"
   ]
  },
  {
   "cell_type": "code",
   "execution_count": null,
   "metadata": {},
   "outputs": [],
   "source": [
    "def add_user_tweepy(username):\n",
    "    \"\"\"Add a user and their tweets to database.\"\"\"\n",
    "    try:\n",
    "        # Get user info from tweepy API    \n",
    "        twitter_user = TWITTER.get_user(username)\n",
    "\n",
    "        # Add as many recent non-retweet/reply tweets as possible\n",
    "        # 200 is a Twitter API limit for single request\n",
    "        tweets = twitter_user.timeline(count=200, \n",
    "                                       exclude_replies=True, \n",
    "                                       include_rts=False, \n",
    "                                       tweet_mode='extended')\n",
    "\n",
    "        # Get an example Basilica embedding for first tweet\n",
    "        embedding = BASILICA.embed_sentence(tweets[0].full_text, model='twitter')\n",
    "            \n",
    "    except Exception as e:\n",
    "        print('Error processing {}: {}'.format(username, e))\n",
    "        raise e\n",
    "\n",
    "    return tweets, embedding"
   ]
  },
  {
   "cell_type": "code",
   "execution_count": null,
   "metadata": {},
   "outputs": [],
   "source": [
    "elon_tweets, elon_embedding = add_user_tweepy('elonmusk')\n",
    "print(len(elon_tweets), len(elon_embedding))"
   ]
  },
  {
   "cell_type": "code",
   "execution_count": null,
   "metadata": {},
   "outputs": [],
   "source": [
    "!pip install twitter_scraper"
   ]
  },
  {
   "cell_type": "code",
   "execution_count": null,
   "metadata": {},
   "outputs": [],
   "source": [
    "from twitter_scraper import get_tweets, Profile"
   ]
  },
  {
   "cell_type": "code",
   "execution_count": null,
   "metadata": {},
   "outputs": [],
   "source": [
    "elon_profile = Profile('elonmusk')\n",
    "dir(elon_profile)"
   ]
  },
  {
   "cell_type": "code",
   "execution_count": null,
   "metadata": {},
   "outputs": [],
   "source": [
    "elon_profile.tweets_count"
   ]
  },
  {
   "cell_type": "code",
   "execution_count": null,
   "metadata": {},
   "outputs": [],
   "source": [
    "tweets = list(get_tweets('elonmusk', pages=10))\n",
    "print(len(tweets))"
   ]
  },
  {
   "cell_type": "code",
   "execution_count": null,
   "metadata": {},
   "outputs": [],
   "source": [
    "tweets[0:5]"
   ]
  },
  {
   "cell_type": "code",
   "execution_count": null,
   "metadata": {},
   "outputs": [],
   "source": [
    "elon_tweets = [d for d in tweets if d['username']=='elonmusk']\n",
    "print(len(elon_tweets))"
   ]
  },
  {
   "cell_type": "code",
   "execution_count": null,
   "metadata": {},
   "outputs": [],
   "source": [
    "embedding = BASILICA.embed_sentence(elon_tweets[0]['text'], model='twitter')\n",
    "print(len(embedding))"
   ]
  },
  {
   "cell_type": "code",
   "execution_count": null,
   "metadata": {},
   "outputs": [],
   "source": [
    "def add_user_twitter_scraper(username):\n",
    "    \"\"\"Add a user and their tweets to database.\"\"\"\n",
    "    try:\n",
    "        # Get user profile   \n",
    "        user_profile = list(get_tweets(username, pages=10))\n",
    "\n",
    "        # Get most recent tweets\n",
    "        tweets = list(get_tweets(username, pages=10))\n",
    "        original_tweets = [d for d in tweets if d['username']==username]\n",
    "\n",
    "        # Get an example Basilica embedding for first tweet\n",
    "        embedding = BASILICA.embed_sentence(original_tweets[0]['text'], model='twitter')\n",
    "            \n",
    "    except Exception as e:\n",
    "        print('Error processing {}: {}'.format(username, e))\n",
    "        raise e\n",
    "\n",
    "    return original_tweets, embedding"
   ]
  },
  {
   "cell_type": "code",
   "execution_count": null,
   "metadata": {},
   "outputs": [],
   "source": [
    "elon_tweets, elon_embedding = add_user_twitter_scraper('elonmusk')\n",
    "print(len(elon_tweets), len(elon_embedding))"
   ]
  }
 ],
 "metadata": {
  "language_info": {
   "codemirror_mode": {
    "name": "ipython",
    "version": 3
   },
   "file_extension": ".py",
   "mimetype": "text/x-python",
   "name": "python",
   "nbconvert_exporter": "python",
   "pygments_lexer": "ipython3",
   "version": 3
  },
  "orig_nbformat": 2
 },
 "nbformat": 4,
 "nbformat_minor": 2
}