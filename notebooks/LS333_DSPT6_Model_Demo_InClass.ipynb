{
 "cells": [
  {
   "cell_type": "markdown",
   "metadata": {},
   "source": [
    "### DSPT6 - Adding Data Science to a Web Application\n",
    "\n",
    "The purpose of this notebook is to demonstrate:\n",
    "- Simple online analysis of data from a user of the Twitoff app or an API\n",
    "- Train a more complicated offline model, and serialize the results for online use"
   ]
  },
  {
   "cell_type": "code",
   "execution_count": 1,
   "metadata": {},
   "outputs": [],
   "source": [
    "import sqlite3\n",
    "import pickle\n",
    "import pandas as pd"
   ]
  },
  {
   "cell_type": "code",
   "execution_count": 2,
   "metadata": {},
   "outputs": [],
   "source": [
    "# Connect to sqlite database\n",
    "conn = sqlite3.connect('../twitoff/twitoff.sqlite')"
   ]
  },
  {
   "cell_type": "code",
   "execution_count": 3,
   "metadata": {
    "colab": {},
    "colab_type": "code",
    "id": "vS_A9hjG1HGD"
   },
   "outputs": [],
   "source": [
    "def get_data(query, conn):\n",
    "    '''Function to get data from SQLite DB'''\n",
    "    \n",
    "    cursor = conn.cursor()\n",
    "    result = cursor.execute(query).fetchall()\n",
    "\n",
    "    # Get columns from cursor object\n",
    "    columns = list(map(lambda x: x[0], cursor.description))\n",
    "\n",
    "    # Assign to DataFrame\n",
    "    df = pd.DataFrame(data=result, columns=columns)\n",
    "    return df"
   ]
  },
  {
   "cell_type": "code",
   "execution_count": 14,
   "metadata": {},
   "outputs": [
    {
     "name": "stdout",
     "output_type": "stream",
     "text": [
      "(14163, 5)\n"
     ]
    },
    {
     "data": {
      "text/html": [
       "<div>\n",
       "<style scoped>\n",
       "    .dataframe tbody tr th:only-of-type {\n",
       "        vertical-align: middle;\n",
       "    }\n",
       "\n",
       "    .dataframe tbody tr th {\n",
       "        vertical-align: top;\n",
       "    }\n",
       "\n",
       "    .dataframe thead th {\n",
       "        text-align: right;\n",
       "    }\n",
       "</style>\n",
       "<table border=\"1\" class=\"dataframe\">\n",
       "  <thead>\n",
       "    <tr style=\"text-align: right;\">\n",
       "      <th></th>\n",
       "      <th>id</th>\n",
       "      <th>text</th>\n",
       "      <th>embedding</th>\n",
       "      <th>username</th>\n",
       "      <th>embedding_decoded</th>\n",
       "    </tr>\n",
       "  </thead>\n",
       "  <tbody>\n",
       "    <tr>\n",
       "      <th>0</th>\n",
       "      <td>1291784200178159616</td>\n",
       "      <td>Good piece on Giga Berlin construction https:/...</td>\n",
       "      <td>b'\\x80\\x04\\x95\\x05\\x1b\\x00\\x00\\x00\\x00\\x00\\x00...</td>\n",
       "      <td>elonmusk</td>\n",
       "      <td>[-0.302523, -0.402071, 1.31735, -1.08965, 1.12...</td>\n",
       "    </tr>\n",
       "    <tr>\n",
       "      <th>1</th>\n",
       "      <td>1291504220948951041</td>\n",
       "      <td>SN5 https://t.co/GlZ28KFVHU</td>\n",
       "      <td>b'\\x80\\x04\\x95\\x05\\x1b\\x00\\x00\\x00\\x00\\x00\\x00...</td>\n",
       "      <td>elonmusk</td>\n",
       "      <td>[0.0428416, -0.375493, 1.57613, -0.605883, 1.1...</td>\n",
       "    </tr>\n",
       "    <tr>\n",
       "      <th>2</th>\n",
       "      <td>1290056061253165057</td>\n",
       "      <td>When space travel becomes as common as air tra...</td>\n",
       "      <td>b'\\x80\\x04\\x95\\x05\\x1b\\x00\\x00\\x00\\x00\\x00\\x00...</td>\n",
       "      <td>elonmusk</td>\n",
       "      <td>[-0.175182, -0.14762, 0.771897, -0.335885, 1.1...</td>\n",
       "    </tr>\n",
       "    <tr>\n",
       "      <th>3</th>\n",
       "      <td>1290021404994236416</td>\n",
       "      <td>Congratulations @SpaceX &amp;amp; @NASA on complet...</td>\n",
       "      <td>b'\\x80\\x04\\x95\\x05\\x1b\\x00\\x00\\x00\\x00\\x00\\x00...</td>\n",
       "      <td>elonmusk</td>\n",
       "      <td>[-0.566924, 0.134408, 0.45648, -0.165182, 0.03...</td>\n",
       "    </tr>\n",
       "    <tr>\n",
       "      <th>4</th>\n",
       "      <td>1289997160763670530</td>\n",
       "      <td>Dragon is stable in the water</td>\n",
       "      <td>b'\\x80\\x04\\x95\\x05\\x1b\\x00\\x00\\x00\\x00\\x00\\x00...</td>\n",
       "      <td>elonmusk</td>\n",
       "      <td>[-0.618478, -0.0443067, 1.2989, -1.19803, 1.29...</td>\n",
       "    </tr>\n",
       "  </tbody>\n",
       "</table>\n",
       "</div>"
      ],
      "text/plain": [
       "                    id                                               text  \\\n",
       "0  1291784200178159616  Good piece on Giga Berlin construction https:/...   \n",
       "1  1291504220948951041                        SN5 https://t.co/GlZ28KFVHU   \n",
       "2  1290056061253165057  When space travel becomes as common as air tra...   \n",
       "3  1290021404994236416  Congratulations @SpaceX &amp; @NASA on complet...   \n",
       "4  1289997160763670530                      Dragon is stable in the water   \n",
       "\n",
       "                                           embedding  username  \\\n",
       "0  b'\\x80\\x04\\x95\\x05\\x1b\\x00\\x00\\x00\\x00\\x00\\x00...  elonmusk   \n",
       "1  b'\\x80\\x04\\x95\\x05\\x1b\\x00\\x00\\x00\\x00\\x00\\x00...  elonmusk   \n",
       "2  b'\\x80\\x04\\x95\\x05\\x1b\\x00\\x00\\x00\\x00\\x00\\x00...  elonmusk   \n",
       "3  b'\\x80\\x04\\x95\\x05\\x1b\\x00\\x00\\x00\\x00\\x00\\x00...  elonmusk   \n",
       "4  b'\\x80\\x04\\x95\\x05\\x1b\\x00\\x00\\x00\\x00\\x00\\x00...  elonmusk   \n",
       "\n",
       "                                   embedding_decoded  \n",
       "0  [-0.302523, -0.402071, 1.31735, -1.08965, 1.12...  \n",
       "1  [0.0428416, -0.375493, 1.57613, -0.605883, 1.1...  \n",
       "2  [-0.175182, -0.14762, 0.771897, -0.335885, 1.1...  \n",
       "3  [-0.566924, 0.134408, 0.45648, -0.165182, 0.03...  \n",
       "4  [-0.618478, -0.0443067, 1.2989, -1.19803, 1.29...  "
      ]
     },
     "execution_count": 14,
     "metadata": {},
     "output_type": "execute_result"
    }
   ],
   "source": [
    "query = '''\n",
    "SELECT \n",
    "  tweet.id,\n",
    "  tweet.text, \n",
    "  tweet.embedding,\n",
    "  user.username\n",
    "FROM tweet\n",
    "JOIN user ON tweet.user_id = user.id\n",
    "'''\n",
    "\n",
    "df = get_data(query, conn)\n",
    "df['embedding_decoded'] = df.embedding.apply(lambda x: pickle.loads(x[2:]))\n",
    "print(df.shape)\n",
    "df.head()"
   ]
  },
  {
   "cell_type": "code",
   "execution_count": 6,
   "metadata": {},
   "outputs": [
    {
     "data": {
      "text/plain": [
       "theeconomist    3105\n",
       "techcrunch      3097\n",
       "billgates       2882\n",
       "barackobama     2764\n",
       "nasa            1680\n",
       "elonmusk         409\n",
       "jeffbezos        226\n",
       "Name: username, dtype: int64"
      ]
     },
     "execution_count": 6,
     "metadata": {},
     "output_type": "execute_result"
    }
   ],
   "source": [
    "df.username.value_counts()"
   ]
  },
  {
   "cell_type": "code",
   "execution_count": 52,
   "metadata": {},
   "outputs": [
    {
     "name": "stdout",
     "output_type": "stream",
     "text": [
      "(2089, 768) (2089,)\n"
     ]
    }
   ],
   "source": [
    "import numpy as np\n",
    "\n",
    "user1 = 'elonmusk'\n",
    "user2 = 'nasa'\n",
    "\n",
    "user1_embeddings = df.embedding_decoded[df.username==user1]\n",
    "user2_embeddings = df.embedding_decoded[df.username==user2]\n",
    "embeddings = pd.concat([user1_embeddings, user2_embeddings])\n",
    "\n",
    "embeddings_df = pd.DataFrame(embeddings.to_list(), \n",
    "                             columns=[f'dim{i}' for i in range(768)])\n",
    "labels = np.concatenate([np.ones(len(user1_embeddings)),\n",
    "                         np.zeros(len(user2_embeddings))])\n",
    "print(embeddings_df.shape, labels.shape)"
   ]
  },
  {
   "cell_type": "code",
   "execution_count": 54,
   "metadata": {},
   "outputs": [
    {
     "name": "stdout",
     "output_type": "stream",
     "text": [
      "(1566, 768) (523, 768)\n"
     ]
    }
   ],
   "source": [
    "from sklearn.model_selection import train_test_split\n",
    "\n",
    "X_train, X_test, y_train, y_test = train_test_split(\n",
    "    embeddings_df, labels, test_size=0.25, random_state=42)\n",
    "print(X_train.shape, X_test.shape)"
   ]
  },
  {
   "cell_type": "code",
   "execution_count": 72,
   "metadata": {},
   "outputs": [
    {
     "name": "stdout",
     "output_type": "stream",
     "text": [
      "              precision    recall  f1-score   support\n",
      "\n",
      "         0.0       1.00      1.00      1.00       416\n",
      "         1.0       0.99      0.98      0.99       107\n",
      "\n",
      "    accuracy                           0.99       523\n",
      "   macro avg       0.99      0.99      0.99       523\n",
      "weighted avg       0.99      0.99      0.99       523\n",
      "\n"
     ]
    },
    {
     "name": "stderr",
     "output_type": "stream",
     "text": [
      "c:\\users\\bruno\\.virtualenvs\\twitoff-dspt6-test-9pff9vts\\lib\\site-packages\\sklearn\\linear_model\\_logistic.py:764: ConvergenceWarning: lbfgs failed to converge (status=1):\n",
      "STOP: TOTAL NO. of ITERATIONS REACHED LIMIT.\n",
      "\n",
      "Increase the number of iterations (max_iter) or scale the data as shown in:\n",
      "    https://scikit-learn.org/stable/modules/preprocessing.html\n",
      "Please also refer to the documentation for alternative solver options:\n",
      "    https://scikit-learn.org/stable/modules/linear_model.html#logistic-regression\n",
      "  extra_warning_msg=_LOGISTIC_SOLVER_CONVERGENCE_MSG)\n"
     ]
    },
    {
     "data": {
      "image/png": "[encoded data removed]",
      "text/plain": [
       "<Figure size 432x288 with 2 Axes>"
      ]
     },
     "metadata": {
      "needs_background": "light"
     },
     "output_type": "display_data"
    }
   ],
   "source": [
    "import matplotlib.pyplot as plt\n",
    "from sklearn.linear_model import LogisticRegression\n",
    "from sklearn.metrics import classification_report, plot_confusion_matrix\n",
    "\n",
    "log_reg = LogisticRegression()\n",
    "log_reg.fit(X_train, y_train)\n",
    "\n",
    "y_pred = log_reg.predict(X_test)\n",
    "print(classification_report(y_test, y_pred))\n",
    "\n",
    "plot_confusion_matrix(log_reg, X_test, y_test, cmap='Blues')\n",
    "plt.title('LogReg Confusion Matrix');"
   ]
  },
  {
   "cell_type": "code",
   "execution_count": null,
   "metadata": {},
   "outputs": [],
   "source": [
    "tweet_embedding = BASILICA.embed_sentence(tweet_text, model='twitter')"
   ]
  },
  {
   "cell_type": "code",
   "execution_count": null,
   "metadata": {
    "colab": {},
    "colab_type": "code",
    "id": "pVapHGy7gEFx"
   },
   "outputs": [],
   "source": []
  }
 ],
 "metadata": {
  "colab": {
   "collapsed_sections": [],
   "name": "DSPT6_APIs_Demo.ipynb",
   "provenance": []
  },
  "kernelspec": {
   "display_name": "Python 3",
   "language": "python",
   "name": "python3"
  }
 },
 "nbformat": 4,
 "nbformat_minor": 4
}
